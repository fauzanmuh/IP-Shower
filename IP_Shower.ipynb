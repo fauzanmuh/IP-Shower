{
  "nbformat": 4,
  "nbformat_minor": 0,
  "metadata": {
    "colab": {
      "name": "IP-Shower.ipynb",
      "provenance": [],
      "collapsed_sections": [],
      "authorship_tag": "ABX9TyNdqqUJLhXAQSo2/oThjULa",
      "include_colab_link": true
    },
    "kernelspec": {
      "name": "python3",
      "display_name": "Python 3"
    },
    "language_info": {
      "name": "python"
    }
  },
  "cells": [
    {
      "cell_type": "markdown",
      "metadata": {
        "id": "view-in-github",
        "colab_type": "text"
      },
      "source": [
        "<a href=\"https://colab.research.google.com/github/fauzanmuh/IP-Shower/blob/main/IP_Shower.ipynb\" target=\"_parent\"><img src=\"https://colab.research.google.com/assets/colab-badge.svg\" alt=\"Open In Colab\"/></a>"
      ]
    },
    {
      "cell_type": "code",
      "execution_count": 7,
      "metadata": {
        "colab": {
          "base_uri": "https://localhost:8080/"
        },
        "id": "QRsZ9vLXT2Mo",
        "outputId": "d696929e-fc46-4b90-a70e-cd20f4a84fa6"
      },
      "outputs": [
        {
          "output_type": "stream",
          "name": "stdout",
          "text": [
            "\n",
            " _                 ____  _   _  _____        _______ ____ \n",
            "(_)_ __           / ___|| | | |/ _ \\ \\      / / ____|  _ \\ \n",
            "| | '_ \\   _____  \\___ \\| |_| | | | \\ \\ /\\ / /|  _| | |_) | \n",
            "| | |_) | |_____|  ___) |  _  | |_| |\\ V  V / | |___|  _ < \n",
            "|_| .__/          |____/|_| |_|\\___/  \\_/\\_/  |_____|_| \\_\\ \n",
            "  |_| \n",
            "\n",
            "By Fauzans\n",
            "\n",
            "METHODS: \n",
            "1 FOR GET IP LOCAL\n",
            "2 FOR GET IP PUBLIC {Global ip}\n",
            "\n",
            "\n",
            "ENTER YOUR METHOD 1 or 2\n",
            ">_ 2\n",
            "PLEASE WAIT ...\n",
            "\n",
            "\n",
            "Your public IP : 35.190.183.83\n"
          ]
        }
      ],
      "source": [
        "import os\n",
        "os.system(\"pip install socket\")\n",
        "os.system(\"pip install requests\")\n",
        "os.system(\"pip install colorama\")\n",
        "os.system(\"pip install time\")\n",
        "os.system(\"clear\")\n",
        "#_________________.\n",
        "import requests\n",
        "import time\n",
        "import socket\n",
        "import colorama\n",
        "from colorama import Fore, init\n",
        "import sys\n",
        "#//////\n",
        "\n",
        "init()\n",
        "\n",
        "print (Fore.GREEN+ \"\"\"\n",
        " _                 ____  _   _  _____        _______ ____ \n",
        "(_)_ __           / ___|| | | |/ _ \\ \\      / / ____|  _ \\ \n",
        "| | '_ \\   _____  \\___ \\| |_| | | | \\ \\ /\\ / /|  _| | |_) | \n",
        "| | |_) | |_____|  ___) |  _  | |_| |\\ V  V / | |___|  _ < \n",
        "|_| .__/          |____/|_| |_|\\___/  \\_/\\_/  |_____|_| \\_\\ \n",
        "  |_| \n",
        "\"\"\")\n",
        "print (\"By Fauzans\")\n",
        "print (Fore.BLUE+\"\"\"\n",
        "METHODS: \n",
        "1 FOR GET IP LOCAL\n",
        "2 FOR GET IP PUBLIC {Global ip}\"\"\")\n",
        "print(\"\")\n",
        "print(Fore.GREEN+\"\")\n",
        "\n",
        "get = input(\"\"\"ENTER YOUR METHOD 1 or 2\n",
        ">_ \"\"\")\n",
        "\n",
        "if get == \"1\":\n",
        "\n",
        "        hostname = socket.gethostname()\n",
        "\n",
        "        ip_local = socket.gethostbyname(hostname)\n",
        "        print (Fore.RED+\"PLEASE WAIT ...\")\n",
        "        time.sleep(3.0)\n",
        "        print (Fore.GREEN+\"Your Local IP :\",Fore.RED + ip_local)\n",
        "#.....$.$.$.$..$_..$.$\n",
        "if get == \"2\":\n",
        "        print (Fore.RED+\"PLEASE WAIT ...\")\n",
        "        time.sleep(3.0)\n",
        "        public = requests.get(\"https://api.ipify.org\").text\n",
        "        print(\"\")\n",
        "        print(\"\")\n",
        "        time.sleep(3)\n",
        "        print (Fore.GREEN+\"Your public IP :\",Fore.RED + public)\n",
        "else:\n",
        "        print (Fore.RED+'[×]'+Fore.YELLOW+' command invalid')\n",
        "        input ('Press enter for exit')\n",
        "        sys.exit()"
      ]
    },
    {
      "cell_type": "code",
      "source": [
        ""
      ],
      "metadata": {
        "id": "iUbnlvjeUWIV"
      },
      "execution_count": null,
      "outputs": []
    }
  ]
}